{
 "cells": [
  {
   "cell_type": "markdown",
   "metadata": {},
   "source": [
    "# Scikit-learn solution"
   ]
  },
  {
   "cell_type": "code",
   "execution_count": 2,
   "metadata": {},
   "outputs": [],
   "source": [
    "import pandas as pd\n",
    "\n",
    "X_train = pd.read_csv('data/processed/X_train.csv')\n",
    "y_train = pd.read_csv('data/processed/y_train.csv')"
   ]
  },
  {
   "cell_type": "code",
   "execution_count": 3,
   "metadata": {},
   "outputs": [
    {
     "name": "stdout",
     "output_type": "stream",
     "text": [
      "          Model           | Mean CV Precision Score\n",
      "SVC                       | 0.8577441077441078  \n",
      "SGDClassifier             | 0.7796813984891063  \n",
      "LogisticRegression        | 0.778693024377044   \n",
      "RandomForestClassifier    | 0.7531565729047072  \n",
      "DecisionTreeClassifier    | 0.746065547998459   \n",
      "GaussianNB                | 0.7248897187992036  \n",
      "Perceptron                | 0.63914842105901    \n"
     ]
    }
   ],
   "source": [
    "from sklearn.linear_model import LogisticRegression\n",
    "from sklearn.linear_model import SGDClassifier\n",
    "from sklearn.linear_model import Perceptron\n",
    "from sklearn.svm import SVC\n",
    "from sklearn.tree import DecisionTreeClassifier\n",
    "from sklearn.ensemble import RandomForestClassifier\n",
    "from sklearn.neighbors import KNeighborsClassifier\n",
    "from sklearn.naive_bayes import GaussianNB\n",
    "from sklearn.model_selection import cross_val_score, KFold\n",
    "\n",
    "\n",
    "algorithms = [\n",
    "    LogisticRegression(max_iter=400),\n",
    "    SGDClassifier(),\n",
    "    Perceptron(),\n",
    "    SVC(),\n",
    "    DecisionTreeClassifier(),\n",
    "    RandomForestClassifier(),\n",
    "    GaussianNB(),\n",
    "]\n",
    "kfold = KFold(n_splits=5, shuffle=True)\n",
    "\n",
    "model_scores = {}\n",
    "for model in algorithms:\n",
    "  scores = cross_val_score(model, X_train, y_train.values.ravel(), cv=kfold, scoring='precision')\n",
    "  model_scores[type(model).__name__] = scores.mean()\n",
    "\n",
    "model_scores = dict(sorted(model_scores.items(), key=lambda item: item[1], reverse=True))\n",
    "\n",
    "print(\"{:^25} | {:^20}\".format('Model', 'Mean CV Precision Score'))\n",
    "for k, v in model_scores.items():\n",
    "  print(\"{:<25} | {:<20}\".format(k, v))"
   ]
  }
 ],
 "metadata": {
  "kernelspec": {
   "display_name": "Python 3",
   "language": "python",
   "name": "python3"
  },
  "language_info": {
   "codemirror_mode": {
    "name": "ipython",
    "version": 3
   },
   "file_extension": ".py",
   "mimetype": "text/x-python",
   "name": "python",
   "nbconvert_exporter": "python",
   "pygments_lexer": "ipython3",
   "version": "3.11.4"
  }
 },
 "nbformat": 4,
 "nbformat_minor": 2
}
